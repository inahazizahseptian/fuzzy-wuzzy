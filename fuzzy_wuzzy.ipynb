{
  "nbformat": 4,
  "nbformat_minor": 0,
  "metadata": {
    "colab": {
      "provenance": []
    },
    "kernelspec": {
      "name": "python3",
      "display_name": "Python 3"
    },
    "language_info": {
      "name": "python"
    }
  },
  "cells": [
    {
      "cell_type": "markdown",
      "source": [
        "# **Regular Expression**"
      ],
      "metadata": {
        "id": "SaVac_X8Nm87"
      }
    },
    {
      "cell_type": "code",
      "execution_count": 1,
      "metadata": {
        "id": "eT5Z-kOgNTNt"
      },
      "outputs": [],
      "source": [
        "import re"
      ]
    },
    {
      "cell_type": "markdown",
      "source": [
        "library dalam phyton yang digunakan untuk regullar expression"
      ],
      "metadata": {
        "id": "z_YpXltJNxA4"
      }
    },
    {
      "cell_type": "code",
      "source": [
        "#Search data using RegExp\n",
        "re.match(r'\\b\\w{5}\\b', 'Andri and Fatia')"
      ],
      "metadata": {
        "colab": {
          "base_uri": "https://localhost:8080/"
        },
        "id": "8QsOisr2N4Sa",
        "outputId": "948ac8d7-ee77-4534-860e-8440e357fca3"
      },
      "execution_count": 2,
      "outputs": [
        {
          "output_type": "execute_result",
          "data": {
            "text/plain": [
              "<re.Match object; span=(0, 5), match='Andri'>"
            ]
          },
          "metadata": {},
          "execution_count": 2
        }
      ]
    },
    {
      "cell_type": "code",
      "source": [
        "#Search data using RexExp\n",
        "re.search(r'\\b\\w{5}\\b', 'Andri and Fatia')"
      ],
      "metadata": {
        "colab": {
          "base_uri": "https://localhost:8080/"
        },
        "id": "OZfixxWUODuV",
        "outputId": "cd1acb88-add7-47d2-f31b-ec3285fe9c5d"
      },
      "execution_count": 3,
      "outputs": [
        {
          "output_type": "execute_result",
          "data": {
            "text/plain": [
              "<re.Match object; span=(0, 5), match='Andri'>"
            ]
          },
          "metadata": {},
          "execution_count": 3
        }
      ]
    },
    {
      "cell_type": "code",
      "source": [
        "#Search data using RexExp\n",
        "re.findall(r'\\b\\w{5}\\b', 'Andri and Fatia')"
      ],
      "metadata": {
        "colab": {
          "base_uri": "https://localhost:8080/"
        },
        "id": "V5nt6oy-OgbV",
        "outputId": "8ce5b0c0-b336-4fad-946c-8da377a5e3d7"
      },
      "execution_count": 4,
      "outputs": [
        {
          "output_type": "execute_result",
          "data": {
            "text/plain": [
              "['Andri', 'Fatia']"
            ]
          },
          "metadata": {},
          "execution_count": 4
        }
      ]
    },
    {
      "cell_type": "code",
      "source": [
        "#Replace Data\n",
        "s = \"User's mobile number is 123456789\"\n",
        "s_hide = re.sub('\\d', '*', s)\n",
        "print(s_hide)"
      ],
      "metadata": {
        "colab": {
          "base_uri": "https://localhost:8080/"
        },
        "id": "PwGZ6EXMOm4_",
        "outputId": "f9314b3d-8ab3-44b9-d2d2-f1c7e48b24cb"
      },
      "execution_count": 5,
      "outputs": [
        {
          "output_type": "stream",
          "name": "stdout",
          "text": [
            "User's mobile number is *********\n"
          ]
        }
      ]
    },
    {
      "cell_type": "code",
      "source": [
        "#Data Validator\n",
        "user_name = input(\"Please enter your name: \")\n",
        "\n",
        "while not re.match(\"^[A-Za-z]+$\", user_name):\n",
        "  print(\"Error! Make sure you only use letters in your name\")\n",
        "  user_name = input(\"Please enter your name: \")\n",
        "print(\"Hello! \"+ user_name)"
      ],
      "metadata": {
        "colab": {
          "base_uri": "https://localhost:8080/"
        },
        "id": "H2ZcCGGxO5t2",
        "outputId": "64adb378-eecf-4b68-91ff-e5486f3abe63"
      },
      "execution_count": 6,
      "outputs": [
        {
          "output_type": "stream",
          "name": "stdout",
          "text": [
            "Please enter your name: 12\n",
            "Error! Make sure you only use letters in your name\n",
            "Please enter your name: ina\n",
            "Hello! ina\n"
          ]
        }
      ]
    },
    {
      "cell_type": "markdown",
      "source": [
        "# **Fuzzy Wuzzy**"
      ],
      "metadata": {
        "id": "p_nERZ5HPNSq"
      }
    },
    {
      "cell_type": "code",
      "source": [
        "pip install fuzzywuzzy"
      ],
      "metadata": {
        "colab": {
          "base_uri": "https://localhost:8080/"
        },
        "id": "IUMLe_w0PQHo",
        "outputId": "7b9c8207-a81d-43e2-cc6b-6abcebd7a6c3"
      },
      "execution_count": 7,
      "outputs": [
        {
          "output_type": "stream",
          "name": "stdout",
          "text": [
            "Collecting fuzzywuzzy\n",
            "  Downloading fuzzywuzzy-0.18.0-py2.py3-none-any.whl.metadata (4.9 kB)\n",
            "Downloading fuzzywuzzy-0.18.0-py2.py3-none-any.whl (18 kB)\n",
            "Installing collected packages: fuzzywuzzy\n",
            "Successfully installed fuzzywuzzy-0.18.0\n"
          ]
        }
      ]
    },
    {
      "cell_type": "code",
      "source": [
        "from fuzzywuzzy import fuzz"
      ],
      "metadata": {
        "colab": {
          "base_uri": "https://localhost:8080/"
        },
        "id": "0Olp5S42PXRx",
        "outputId": "607e7c2f-ac78-4e85-ffb7-12e03e641cad"
      },
      "execution_count": 8,
      "outputs": [
        {
          "output_type": "stream",
          "name": "stderr",
          "text": [
            "/usr/local/lib/python3.10/dist-packages/fuzzywuzzy/fuzz.py:11: UserWarning: Using slow pure-python SequenceMatcher. Install python-Levenshtein to remove this warning\n",
            "  warnings.warn('Using slow pure-python SequenceMatcher. Install python-Levenshtein to remove this warning')\n"
          ]
        }
      ]
    },
    {
      "cell_type": "code",
      "source": [
        "#Mencari kesamaan antara dua teks\n",
        "text1 = \"The quick brown fox jumps over the lazy dog\"\n",
        "text2 = \"The quick brown fox jumps over the lazy dog.\"\n",
        "\n",
        "similarity = fuzz.ratio(text1, text2)\n",
        "print(similarity)"
      ],
      "metadata": {
        "colab": {
          "base_uri": "https://localhost:8080/"
        },
        "id": "EAKB1XfoPb0R",
        "outputId": "4d176272-2891-4a25-9b12-907383200ea3"
      },
      "execution_count": 9,
      "outputs": [
        {
          "output_type": "stream",
          "name": "stdout",
          "text": [
            "99\n"
          ]
        }
      ]
    },
    {
      "cell_type": "code",
      "source": [
        "similarity = fuzz.partial_ratio(text1, text2)\n",
        "print(similarity)"
      ],
      "metadata": {
        "colab": {
          "base_uri": "https://localhost:8080/"
        },
        "id": "uaXPA6O1PnjJ",
        "outputId": "474fb622-8784-47fd-f4ae-ecd24208b7e0"
      },
      "execution_count": 10,
      "outputs": [
        {
          "output_type": "stream",
          "name": "stdout",
          "text": [
            "100\n"
          ]
        }
      ]
    },
    {
      "cell_type": "code",
      "source": [
        "#Mencari kesamaan antara dua teks\n",
        "text1 = \"Ali is my name\"\n",
        "text2 = \"My name is Ali\"\n",
        "\n",
        "print(fuzz.token_sort_ratio(text1, text2))"
      ],
      "metadata": {
        "colab": {
          "base_uri": "https://localhost:8080/"
        },
        "id": "UFwJzfdpP4F9",
        "outputId": "81f2b29a-8c52-44c9-f153-466549de99a0"
      },
      "execution_count": 11,
      "outputs": [
        {
          "output_type": "stream",
          "name": "stdout",
          "text": [
            "100\n"
          ]
        }
      ]
    },
    {
      "cell_type": "code",
      "source": [
        "#Mencari kesamaan antara dua teks\n",
        "text1 = \"Ali is my name\"\n",
        "text2 = \"My name is Ali Ali\"\n",
        "\n",
        "print(fuzz.token_sort_ratio(text1, text2))"
      ],
      "metadata": {
        "colab": {
          "base_uri": "https://localhost:8080/"
        },
        "id": "sk0GV690QGqe",
        "outputId": "d21a57bf-9118-49a3-d962-ff28817c63ce"
      },
      "execution_count": 12,
      "outputs": [
        {
          "output_type": "stream",
          "name": "stdout",
          "text": [
            "88\n"
          ]
        }
      ]
    },
    {
      "cell_type": "code",
      "source": [
        "print(fuzz.token_set_ratio(text1, text2))"
      ],
      "metadata": {
        "colab": {
          "base_uri": "https://localhost:8080/"
        },
        "id": "s_dagIKvQWnd",
        "outputId": "5320f8dd-abdc-4d8a-cff5-73f27fb07e1a"
      },
      "execution_count": 13,
      "outputs": [
        {
          "output_type": "stream",
          "name": "stdout",
          "text": [
            "100\n"
          ]
        }
      ]
    },
    {
      "cell_type": "code",
      "source": [
        "from fuzzywuzzy import process\n",
        "query = \"My name is Ali\"\n",
        "choices = [\"My name Ali\", \"My name is Ali\",\n",
        "            \"My Ali\"]\n",
        "process.extract(query,choices)"
      ],
      "metadata": {
        "colab": {
          "base_uri": "https://localhost:8080/"
        },
        "id": "Y-9Zz9-rQkkd",
        "outputId": "8a199e28-47c1-4bad-d11e-6b7b3cb51b84"
      },
      "execution_count": 14,
      "outputs": [
        {
          "output_type": "execute_result",
          "data": {
            "text/plain": [
              "[('My name is Ali', 100), ('My name Ali', 95), ('My Ali', 86)]"
            ]
          },
          "metadata": {},
          "execution_count": 14
        }
      ]
    },
    {
      "cell_type": "markdown",
      "source": [
        "# **Fuzzy pada Dataframe Pandas**"
      ],
      "metadata": {
        "id": "4tnHpXT1Qo6r"
      }
    },
    {
      "cell_type": "code",
      "source": [
        "import pandas as pd"
      ],
      "metadata": {
        "id": "kSiQLOWHQqTC"
      },
      "execution_count": 15,
      "outputs": []
    },
    {
      "cell_type": "code",
      "source": [
        "#Creating dataframe\n",
        "data_1 = {\n",
        "  \"country\": [\"England\", \"Scotland\", \"Wales\", \"United Kingdom\", \"Northern Ireland\"],\n",
        "  \"GDP_per_capita\": [55.98, 5.45, 3.14, 67.33, 1.89]\n",
        "}\n",
        "\n",
        "data_2 = {\n",
        "  \"country\": [\"Northern Iland\", \"Englnd\", \"Wles\", \"Scotlnd\", \"United K.\"],\n",
        "  \"GDP_per_capita\": [24900, 23882, 37460, 45101, 46510.20]\n",
        "}\n",
        "existing_data = pd.DataFrame(data_1)\n",
        "exported_data = pd.DataFrame(data_2)\n",
        "\n",
        "print(existing_data, exported_data, sep=\"\\n\\n\")"
      ],
      "metadata": {
        "colab": {
          "base_uri": "https://localhost:8080/"
        },
        "id": "CYHjlxsAQtK3",
        "outputId": "f46e2bc4-51af-40d7-b903-2d680ba178ed"
      },
      "execution_count": 16,
      "outputs": [
        {
          "output_type": "stream",
          "name": "stdout",
          "text": [
            "            country  GDP_per_capita\n",
            "0           England           55.98\n",
            "1          Scotland            5.45\n",
            "2             Wales            3.14\n",
            "3    United Kingdom           67.33\n",
            "4  Northern Ireland            1.89\n",
            "\n",
            "          country  GDP_per_capita\n",
            "0  Northern Iland         24900.0\n",
            "1          Englnd         23882.0\n",
            "2            Wles         37460.0\n",
            "3         Scotlnd         45101.0\n",
            "4       United K.         46510.2\n"
          ]
        }
      ]
    },
    {
      "cell_type": "code",
      "source": [
        "data = pd.merge(existing_data, exported_data, on=\"country\", how=\"left\")\n",
        "print(data.head())"
      ],
      "metadata": {
        "colab": {
          "base_uri": "https://localhost:8080/"
        },
        "id": "Jw2Qy4qZQ8RL",
        "outputId": "d8db1877-2fc6-4f21-c534-64b91655d552"
      },
      "execution_count": 17,
      "outputs": [
        {
          "output_type": "stream",
          "name": "stdout",
          "text": [
            "            country  GDP_per_capita_x  GDP_per_capita_y\n",
            "0           England             55.98               NaN\n",
            "1          Scotland              5.45               NaN\n",
            "2             Wales              3.14               NaN\n",
            "3    United Kingdom             67.33               NaN\n",
            "4  Northern Ireland              1.89               NaN\n"
          ]
        }
      ]
    },
    {
      "cell_type": "markdown",
      "source": [
        "Ternyata, data GDP_per_capita tidak terbaca karena kolom “country” pada kedua dictionary berbeda. Kita dapat menggunakan fuzz.partial_ratio() untuk melihat kemiripan kedua dictionary lalu diterapkan (apply) pada exported_data."
      ],
      "metadata": {
        "id": "phwX6704RF4J"
      }
    },
    {
      "cell_type": "code",
      "source": [
        "#Rename mispelled columns\n",
        "exported_data[\"country\"] = exported_data[\"country\"].apply(\n",
        "  lambda x: process.extractOne(x, existing_data[\"country\"],\n",
        "  scorer=fuzz.partial_ratio)[0]\n",
        ")\n",
        "\n",
        "#Attempt to join the two dataframe\n",
        "data = pd.merge(existing_data, exported_data, on=\"country\", how=\"left\")\n",
        "print(data.head())"
      ],
      "metadata": {
        "colab": {
          "base_uri": "https://localhost:8080/"
        },
        "id": "OKV0_rx1RHHa",
        "outputId": "3f8f88c7-228b-4907-e92f-dcbdd9032a60"
      },
      "execution_count": 19,
      "outputs": [
        {
          "output_type": "stream",
          "name": "stdout",
          "text": [
            "            country  GDP_per_capita_x  GDP_per_capita_y\n",
            "0           England             55.98           23882.0\n",
            "1          Scotland              5.45           45101.0\n",
            "2             Wales              3.14           37460.0\n",
            "3    United Kingdom             67.33           46510.2\n",
            "4  Northern Ireland              1.89           24900.0\n"
          ]
        }
      ]
    },
    {
      "cell_type": "markdown",
      "source": [
        "# **Sentiment Analysis**\n",
        "Analisis sentimen adalah suatu teknik Natural Languange Process (NLP) yang digunakan untuk menentukan apakah suatu teks memiliki sentimen negatif, positif, atau netral."
      ],
      "metadata": {
        "id": "XaJ1UO5dR0Eu"
      }
    },
    {
      "cell_type": "code",
      "source": [
        "from textblob import TextBlob"
      ],
      "metadata": {
        "id": "Lrah68LfR75r"
      },
      "execution_count": 20,
      "outputs": []
    },
    {
      "cell_type": "code",
      "source": [
        "text_1 = \"The movie was so awesome.\"\n",
        "text_2 = \"The food here tastes terrible.\"\n",
        "\n",
        "#Determining the Polarity\n",
        "p_1 = TextBlob(text_1).sentiment.polarity\n",
        "p_2 = TextBlob(text_2).sentiment.polarity\n",
        "\n",
        "#Determining the subjectivity\n",
        "s_1 = TextBlob(text_1).sentiment.subjectivity\n",
        "s_2 = TextBlob(text_2).sentiment.subjectivity\n",
        "\n",
        "print(\"Polarity of Text 1 is\", p_1)\n",
        "print(\"Polarity of Text 2 is\", p_2)\n",
        "print(\"Subjectivity of Text 1 is\", s_1)\n",
        "print(\"Subjectivity of Text 2 is\", s_2)"
      ],
      "metadata": {
        "colab": {
          "base_uri": "https://localhost:8080/"
        },
        "id": "mNqzAyn2R_GR",
        "outputId": "ca918ad3-ff0d-480b-a233-280e01de60c8"
      },
      "execution_count": 21,
      "outputs": [
        {
          "output_type": "stream",
          "name": "stdout",
          "text": [
            "Polarity of Text 1 is 1.0\n",
            "Polarity of Text 2 is -1.0\n",
            "Subjectivity of Text 1 is 1.0\n",
            "Subjectivity of Text 2 is 1.0\n"
          ]
        }
      ]
    },
    {
      "cell_type": "code",
      "source": [
        "pip install vaderSentiment"
      ],
      "metadata": {
        "colab": {
          "base_uri": "https://localhost:8080/"
        },
        "id": "nInPEYR-SDVW",
        "outputId": "658fb91c-c819-484e-c86c-a5e04cb26fb1"
      },
      "execution_count": 22,
      "outputs": [
        {
          "output_type": "stream",
          "name": "stdout",
          "text": [
            "Collecting vaderSentiment\n",
            "  Downloading vaderSentiment-3.3.2-py2.py3-none-any.whl.metadata (572 bytes)\n",
            "Requirement already satisfied: requests in /usr/local/lib/python3.10/dist-packages (from vaderSentiment) (2.32.3)\n",
            "Requirement already satisfied: charset-normalizer<4,>=2 in /usr/local/lib/python3.10/dist-packages (from requests->vaderSentiment) (3.4.0)\n",
            "Requirement already satisfied: idna<4,>=2.5 in /usr/local/lib/python3.10/dist-packages (from requests->vaderSentiment) (3.10)\n",
            "Requirement already satisfied: urllib3<3,>=1.21.1 in /usr/local/lib/python3.10/dist-packages (from requests->vaderSentiment) (2.2.3)\n",
            "Requirement already satisfied: certifi>=2017.4.17 in /usr/local/lib/python3.10/dist-packages (from requests->vaderSentiment) (2024.8.30)\n",
            "Downloading vaderSentiment-3.3.2-py2.py3-none-any.whl (125 kB)\n",
            "\u001b[2K   \u001b[90m━━━━━━━━━━━━━━━━━━━━━━━━━━━━━━━━━━━━━━━━\u001b[0m \u001b[32m126.0/126.0 kB\u001b[0m \u001b[31m3.7 MB/s\u001b[0m eta \u001b[36m0:00:00\u001b[0m\n",
            "\u001b[?25hInstalling collected packages: vaderSentiment\n",
            "Successfully installed vaderSentiment-3.3.2\n"
          ]
        }
      ]
    },
    {
      "cell_type": "code",
      "source": [
        "from vaderSentiment.vaderSentiment import SentimentIntensityAnalyzer\n",
        "sentiment = SentimentIntensityAnalyzer()\n",
        "text_1 = \"The book was a perfect balance between writting style and plot.\"\n",
        "text_2 = \"The pizza tastes terrible.\"\n",
        "sent_1 = sentiment.polarity_scores(text_1)\n",
        "sent_2 = sentiment.polarity_scores(text_2)\n",
        "\n",
        "print(\"Sentiment of Text 1:\", sent_1)\n",
        "print(\"Sentiment of Text 2:\", sent_2)"
      ],
      "metadata": {
        "colab": {
          "base_uri": "https://localhost:8080/"
        },
        "id": "XCdEGVehSG8t",
        "outputId": "66d299ce-bc8d-4c19-c60e-63fd8b4bc099"
      },
      "execution_count": 23,
      "outputs": [
        {
          "output_type": "stream",
          "name": "stdout",
          "text": [
            "Sentiment of Text 1: {'neg': 0.0, 'neu': 0.73, 'pos': 0.27, 'compound': 0.5719}\n",
            "Sentiment of Text 2: {'neg': 0.508, 'neu': 0.492, 'pos': 0.0, 'compound': -0.4767}\n"
          ]
        }
      ]
    },
    {
      "cell_type": "markdown",
      "source": [
        "# **Name Entity Recognition (NER)**\n",
        "\n",
        "NER adalah salah satu bagian dari NLP untuk menentukan orang, lokasi, atau organisasi pada suatu teks."
      ],
      "metadata": {
        "id": "cpik6KN9SQ-O"
      }
    },
    {
      "cell_type": "code",
      "source": [
        "import spacy\n",
        "from spacy import displacy\n",
        "\n",
        "NER = spacy.load(\"en_core_web_sm\")\n",
        "raw_text_1 = \"Mars is the fourth planet from the Sun, and the seventh largest. It’s the only planet we know of inhabited entirely by robots.\"\n",
        "raw_text_2 = \"Indonesia is the world's largest archipelagic state and the 14th-largest country by area, at 1,904,569 square kilometres (735,358 square miles).\"\n",
        "\n",
        "text1 = NER(raw_text_1)\n",
        "text2 = NER(raw_text_2)"
      ],
      "metadata": {
        "id": "cR14kW7eSSuj"
      },
      "execution_count": 24,
      "outputs": []
    },
    {
      "cell_type": "code",
      "source": [
        "for word in text1.ents:\n",
        "  print(word.text, word.label_)"
      ],
      "metadata": {
        "colab": {
          "base_uri": "https://localhost:8080/"
        },
        "id": "f4dmOh0VSarB",
        "outputId": "cf3d70e5-edb6-4774-b37c-62333ea111b3"
      },
      "execution_count": 25,
      "outputs": [
        {
          "output_type": "stream",
          "name": "stdout",
          "text": [
            "Mars LOC\n",
            "fourth ORDINAL\n",
            "Sun LOC\n",
            "seventh ORDINAL\n"
          ]
        }
      ]
    },
    {
      "cell_type": "code",
      "source": [
        "for word in text2.ents:\n",
        "  print(word.text, word.label_)"
      ],
      "metadata": {
        "colab": {
          "base_uri": "https://localhost:8080/"
        },
        "id": "9W93Fzu2Sk0x",
        "outputId": "93e3f56b-d626-41eb-97bc-dce5a58c24c1"
      },
      "execution_count": 26,
      "outputs": [
        {
          "output_type": "stream",
          "name": "stdout",
          "text": [
            "Indonesia GPE\n",
            "14th ORDINAL\n",
            "1,904,569 square kilometres QUANTITY\n",
            "735,358 square miles QUANTITY\n"
          ]
        }
      ]
    },
    {
      "cell_type": "code",
      "source": [
        "displacy.render(text1, style=\"ent\", jupyter=True)"
      ],
      "metadata": {
        "colab": {
          "base_uri": "https://localhost:8080/",
          "height": 52
        },
        "id": "6QhGmVSaSoVK",
        "outputId": "2004b646-4d16-419c-aac0-e0bca26c9c61"
      },
      "execution_count": 27,
      "outputs": [
        {
          "output_type": "display_data",
          "data": {
            "text/plain": [
              "<IPython.core.display.HTML object>"
            ],
            "text/html": [
              "<span class=\"tex2jax_ignore\"><div class=\"entities\" style=\"line-height: 2.5; direction: ltr\">\n",
              "<mark class=\"entity\" style=\"background: #ff9561; padding: 0.45em 0.6em; margin: 0 0.25em; line-height: 1; border-radius: 0.35em;\">\n",
              "    Mars\n",
              "    <span style=\"font-size: 0.8em; font-weight: bold; line-height: 1; border-radius: 0.35em; vertical-align: middle; margin-left: 0.5rem\">LOC</span>\n",
              "</mark>\n",
              " is the \n",
              "<mark class=\"entity\" style=\"background: #e4e7d2; padding: 0.45em 0.6em; margin: 0 0.25em; line-height: 1; border-radius: 0.35em;\">\n",
              "    fourth\n",
              "    <span style=\"font-size: 0.8em; font-weight: bold; line-height: 1; border-radius: 0.35em; vertical-align: middle; margin-left: 0.5rem\">ORDINAL</span>\n",
              "</mark>\n",
              " planet from the \n",
              "<mark class=\"entity\" style=\"background: #ff9561; padding: 0.45em 0.6em; margin: 0 0.25em; line-height: 1; border-radius: 0.35em;\">\n",
              "    Sun\n",
              "    <span style=\"font-size: 0.8em; font-weight: bold; line-height: 1; border-radius: 0.35em; vertical-align: middle; margin-left: 0.5rem\">LOC</span>\n",
              "</mark>\n",
              ", and the \n",
              "<mark class=\"entity\" style=\"background: #e4e7d2; padding: 0.45em 0.6em; margin: 0 0.25em; line-height: 1; border-radius: 0.35em;\">\n",
              "    seventh\n",
              "    <span style=\"font-size: 0.8em; font-weight: bold; line-height: 1; border-radius: 0.35em; vertical-align: middle; margin-left: 0.5rem\">ORDINAL</span>\n",
              "</mark>\n",
              " largest. It’s the only planet we know of inhabited entirely by robots.</div></span>"
            ]
          },
          "metadata": {}
        }
      ]
    }
  ]
}